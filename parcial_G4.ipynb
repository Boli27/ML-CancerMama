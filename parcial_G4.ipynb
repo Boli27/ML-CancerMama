{
  "cells": [
    {
      "cell_type": "markdown",
      "metadata": {
        "id": "W6vl232moEK7"
      },
      "source": [
        "# **Ejercicio \"Diagnóstico de cáncer de mama\"**\n",
        "\n",
        "*   Base de datos: Breast Cancer Wisconsin Dataset\n",
        "*   Objetivo: Clasificar tumores como benignos o malignos.\n",
        "\n",
        "Presentado por:\n",
        "*   Kaleft Salazar Sánchez\n",
        "*   Esteban Serna Erazo\n",
        "*   Juan Eraso Muñoz\n",
        "*   Cristian Palta Guzmán\n",
        "*   Santiago Moreno Arcos\n"
      ]
    },
    {
      "cell_type": "code",
      "execution_count": null,
      "metadata": {
        "id": "xOCqrNFSCY49"
      },
      "outputs": [],
      "source": [
        "# Importamos las librerías necesarias\n",
        "\n",
        "import pandas as pd  # Manipulación y análisis de datos en estructuras tipo DataFrame.\n",
        "import numpy as np  # Operaciones matemáticas y manejo de arreglos multidimensionales.\n",
        "import matplotlib.pyplot as plt  # Generación de gráficos y visualizaciones.\n",
        "import seaborn as sns  # Biblioteca basada en Matplotlib para visualizaciones más atractivas.\n",
        "from sklearn.model_selection import train_test_split  # División del conjunto de datos en entrenamiento y prueba.\n",
        "from sklearn.preprocessing import StandardScaler  # Normalización de datos para mejorar el rendimiento de los modelos.\n",
        "from sklearn.svm import SVC  # Implementación de Máquinas de Vectores de Soporte (SVM) para clasificación.\n",
        "from sklearn.decomposition import PCA  # Reducción de dimensionalidad mediante Análisis de Componentes Principales (PCA).\n",
        "from sklearn.metrics import ConfusionMatrixDisplay, classification_report, confusion_matrix  # Evaluación del modelo mediante métricas de clasificación.\n",
        "from sklearn.metrics import recall_score  # Cálculo de la métrica de recall (sensibilidad) en clasificación.\n",
        "from sklearn.model_selection import GridSearchCV  # Búsqueda de hiperparámetros óptimos mediante validación cruzada.\n"
      ]
    },
    {
      "cell_type": "markdown",
      "metadata": {
        "id": "jAAXZb5mo2I7"
      },
      "source": [
        "# ✅ **Requerimiento 1:**\n",
        "**Normalizar los datos y revisar la distribución de clases.**"
      ]
    },
    {
      "cell_type": "code",
      "execution_count": null,
      "metadata": {
        "colab": {
          "base_uri": "https://localhost:8080/",
          "height": 273
        },
        "id": "iMuibBlAK7z8",
        "outputId": "50652a7a-3131-45fe-fac6-3458ac9d806c"
      },
      "outputs": [
        {
          "output_type": "execute_result",
          "data": {
            "text/plain": [
              "   diagnosis  radius_mean  texture_mean  perimeter_mean  area_mean  \\\n",
              "0          1        17.99         10.38          122.80     1001.0   \n",
              "1          1        20.57         17.77          132.90     1326.0   \n",
              "2          1        19.69         21.25          130.00     1203.0   \n",
              "3          1        11.42         20.38           77.58      386.1   \n",
              "4          1        20.29         14.34          135.10     1297.0   \n",
              "\n",
              "   smoothness_mean  compactness_mean  concavity_mean  concave points_mean  \\\n",
              "0          0.11840           0.27760          0.3001              0.14710   \n",
              "1          0.08474           0.07864          0.0869              0.07017   \n",
              "2          0.10960           0.15990          0.1974              0.12790   \n",
              "3          0.14250           0.28390          0.2414              0.10520   \n",
              "4          0.10030           0.13280          0.1980              0.10430   \n",
              "\n",
              "   symmetry_mean  ...  radius_worst  texture_worst  perimeter_worst  \\\n",
              "0         0.2419  ...         25.38          17.33           184.60   \n",
              "1         0.1812  ...         24.99          23.41           158.80   \n",
              "2         0.2069  ...         23.57          25.53           152.50   \n",
              "3         0.2597  ...         14.91          26.50            98.87   \n",
              "4         0.1809  ...         22.54          16.67           152.20   \n",
              "\n",
              "   area_worst  smoothness_worst  compactness_worst  concavity_worst  \\\n",
              "0      2019.0            0.1622             0.6656           0.7119   \n",
              "1      1956.0            0.1238             0.1866           0.2416   \n",
              "2      1709.0            0.1444             0.4245           0.4504   \n",
              "3       567.7            0.2098             0.8663           0.6869   \n",
              "4      1575.0            0.1374             0.2050           0.4000   \n",
              "\n",
              "   concave points_worst  symmetry_worst  fractal_dimension_worst  \n",
              "0                0.2654          0.4601                  0.11890  \n",
              "1                0.1860          0.2750                  0.08902  \n",
              "2                0.2430          0.3613                  0.08758  \n",
              "3                0.2575          0.6638                  0.17300  \n",
              "4                0.1625          0.2364                  0.07678  \n",
              "\n",
              "[5 rows x 31 columns]"
            ],
            "text/html": [
              "\n",
              "  <div id=\"df-7a8e50cf-f05d-48c9-8ae3-d57b65848709\" class=\"colab-df-container\">\n",
              "    <div>\n",
              "<style scoped>\n",
              "    .dataframe tbody tr th:only-of-type {\n",
              "        vertical-align: middle;\n",
              "    }\n",
              "\n",
              "    .dataframe tbody tr th {\n",
              "        vertical-align: top;\n",
              "    }\n",
              "\n",
              "    .dataframe thead th {\n",
              "        text-align: right;\n",
              "    }\n",
              "</style>\n",
              "<table border=\"1\" class=\"dataframe\">\n",
              "  <thead>\n",
              "    <tr style=\"text-align: right;\">\n",
              "      <th></th>\n",
              "      <th>diagnosis</th>\n",
              "      <th>radius_mean</th>\n",
              "      <th>texture_mean</th>\n",
              "      <th>perimeter_mean</th>\n",
              "      <th>area_mean</th>\n",
              "      <th>smoothness_mean</th>\n",
              "      <th>compactness_mean</th>\n",
              "      <th>concavity_mean</th>\n",
              "      <th>concave points_mean</th>\n",
              "      <th>symmetry_mean</th>\n",
              "      <th>...</th>\n",
              "      <th>radius_worst</th>\n",
              "      <th>texture_worst</th>\n",
              "      <th>perimeter_worst</th>\n",
              "      <th>area_worst</th>\n",
              "      <th>smoothness_worst</th>\n",
              "      <th>compactness_worst</th>\n",
              "      <th>concavity_worst</th>\n",
              "      <th>concave points_worst</th>\n",
              "      <th>symmetry_worst</th>\n",
              "      <th>fractal_dimension_worst</th>\n",
              "    </tr>\n",
              "  </thead>\n",
              "  <tbody>\n",
              "    <tr>\n",
              "      <th>0</th>\n",
              "      <td>1</td>\n",
              "      <td>17.99</td>\n",
              "      <td>10.38</td>\n",
              "      <td>122.80</td>\n",
              "      <td>1001.0</td>\n",
              "      <td>0.11840</td>\n",
              "      <td>0.27760</td>\n",
              "      <td>0.3001</td>\n",
              "      <td>0.14710</td>\n",
              "      <td>0.2419</td>\n",
              "      <td>...</td>\n",
              "      <td>25.38</td>\n",
              "      <td>17.33</td>\n",
              "      <td>184.60</td>\n",
              "      <td>2019.0</td>\n",
              "      <td>0.1622</td>\n",
              "      <td>0.6656</td>\n",
              "      <td>0.7119</td>\n",
              "      <td>0.2654</td>\n",
              "      <td>0.4601</td>\n",
              "      <td>0.11890</td>\n",
              "    </tr>\n",
              "    <tr>\n",
              "      <th>1</th>\n",
              "      <td>1</td>\n",
              "      <td>20.57</td>\n",
              "      <td>17.77</td>\n",
              "      <td>132.90</td>\n",
              "      <td>1326.0</td>\n",
              "      <td>0.08474</td>\n",
              "      <td>0.07864</td>\n",
              "      <td>0.0869</td>\n",
              "      <td>0.07017</td>\n",
              "      <td>0.1812</td>\n",
              "      <td>...</td>\n",
              "      <td>24.99</td>\n",
              "      <td>23.41</td>\n",
              "      <td>158.80</td>\n",
              "      <td>1956.0</td>\n",
              "      <td>0.1238</td>\n",
              "      <td>0.1866</td>\n",
              "      <td>0.2416</td>\n",
              "      <td>0.1860</td>\n",
              "      <td>0.2750</td>\n",
              "      <td>0.08902</td>\n",
              "    </tr>\n",
              "    <tr>\n",
              "      <th>2</th>\n",
              "      <td>1</td>\n",
              "      <td>19.69</td>\n",
              "      <td>21.25</td>\n",
              "      <td>130.00</td>\n",
              "      <td>1203.0</td>\n",
              "      <td>0.10960</td>\n",
              "      <td>0.15990</td>\n",
              "      <td>0.1974</td>\n",
              "      <td>0.12790</td>\n",
              "      <td>0.2069</td>\n",
              "      <td>...</td>\n",
              "      <td>23.57</td>\n",
              "      <td>25.53</td>\n",
              "      <td>152.50</td>\n",
              "      <td>1709.0</td>\n",
              "      <td>0.1444</td>\n",
              "      <td>0.4245</td>\n",
              "      <td>0.4504</td>\n",
              "      <td>0.2430</td>\n",
              "      <td>0.3613</td>\n",
              "      <td>0.08758</td>\n",
              "    </tr>\n",
              "    <tr>\n",
              "      <th>3</th>\n",
              "      <td>1</td>\n",
              "      <td>11.42</td>\n",
              "      <td>20.38</td>\n",
              "      <td>77.58</td>\n",
              "      <td>386.1</td>\n",
              "      <td>0.14250</td>\n",
              "      <td>0.28390</td>\n",
              "      <td>0.2414</td>\n",
              "      <td>0.10520</td>\n",
              "      <td>0.2597</td>\n",
              "      <td>...</td>\n",
              "      <td>14.91</td>\n",
              "      <td>26.50</td>\n",
              "      <td>98.87</td>\n",
              "      <td>567.7</td>\n",
              "      <td>0.2098</td>\n",
              "      <td>0.8663</td>\n",
              "      <td>0.6869</td>\n",
              "      <td>0.2575</td>\n",
              "      <td>0.6638</td>\n",
              "      <td>0.17300</td>\n",
              "    </tr>\n",
              "    <tr>\n",
              "      <th>4</th>\n",
              "      <td>1</td>\n",
              "      <td>20.29</td>\n",
              "      <td>14.34</td>\n",
              "      <td>135.10</td>\n",
              "      <td>1297.0</td>\n",
              "      <td>0.10030</td>\n",
              "      <td>0.13280</td>\n",
              "      <td>0.1980</td>\n",
              "      <td>0.10430</td>\n",
              "      <td>0.1809</td>\n",
              "      <td>...</td>\n",
              "      <td>22.54</td>\n",
              "      <td>16.67</td>\n",
              "      <td>152.20</td>\n",
              "      <td>1575.0</td>\n",
              "      <td>0.1374</td>\n",
              "      <td>0.2050</td>\n",
              "      <td>0.4000</td>\n",
              "      <td>0.1625</td>\n",
              "      <td>0.2364</td>\n",
              "      <td>0.07678</td>\n",
              "    </tr>\n",
              "  </tbody>\n",
              "</table>\n",
              "<p>5 rows × 31 columns</p>\n",
              "</div>\n",
              "    <div class=\"colab-df-buttons\">\n",
              "\n",
              "  <div class=\"colab-df-container\">\n",
              "    <button class=\"colab-df-convert\" onclick=\"convertToInteractive('df-7a8e50cf-f05d-48c9-8ae3-d57b65848709')\"\n",
              "            title=\"Convert this dataframe to an interactive table.\"\n",
              "            style=\"display:none;\">\n",
              "\n",
              "  <svg xmlns=\"http://www.w3.org/2000/svg\" height=\"24px\" viewBox=\"0 -960 960 960\">\n",
              "    <path d=\"M120-120v-720h720v720H120Zm60-500h600v-160H180v160Zm220 220h160v-160H400v160Zm0 220h160v-160H400v160ZM180-400h160v-160H180v160Zm440 0h160v-160H620v160ZM180-180h160v-160H180v160Zm440 0h160v-160H620v160Z\"/>\n",
              "  </svg>\n",
              "    </button>\n",
              "\n",
              "  <style>\n",
              "    .colab-df-container {\n",
              "      display:flex;\n",
              "      gap: 12px;\n",
              "    }\n",
              "\n",
              "    .colab-df-convert {\n",
              "      background-color: #E8F0FE;\n",
              "      border: none;\n",
              "      border-radius: 50%;\n",
              "      cursor: pointer;\n",
              "      display: none;\n",
              "      fill: #1967D2;\n",
              "      height: 32px;\n",
              "      padding: 0 0 0 0;\n",
              "      width: 32px;\n",
              "    }\n",
              "\n",
              "    .colab-df-convert:hover {\n",
              "      background-color: #E2EBFA;\n",
              "      box-shadow: 0px 1px 2px rgba(60, 64, 67, 0.3), 0px 1px 3px 1px rgba(60, 64, 67, 0.15);\n",
              "      fill: #174EA6;\n",
              "    }\n",
              "\n",
              "    .colab-df-buttons div {\n",
              "      margin-bottom: 4px;\n",
              "    }\n",
              "\n",
              "    [theme=dark] .colab-df-convert {\n",
              "      background-color: #3B4455;\n",
              "      fill: #D2E3FC;\n",
              "    }\n",
              "\n",
              "    [theme=dark] .colab-df-convert:hover {\n",
              "      background-color: #434B5C;\n",
              "      box-shadow: 0px 1px 3px 1px rgba(0, 0, 0, 0.15);\n",
              "      filter: drop-shadow(0px 1px 2px rgba(0, 0, 0, 0.3));\n",
              "      fill: #FFFFFF;\n",
              "    }\n",
              "  </style>\n",
              "\n",
              "    <script>\n",
              "      const buttonEl =\n",
              "        document.querySelector('#df-7a8e50cf-f05d-48c9-8ae3-d57b65848709 button.colab-df-convert');\n",
              "      buttonEl.style.display =\n",
              "        google.colab.kernel.accessAllowed ? 'block' : 'none';\n",
              "\n",
              "      async function convertToInteractive(key) {\n",
              "        const element = document.querySelector('#df-7a8e50cf-f05d-48c9-8ae3-d57b65848709');\n",
              "        const dataTable =\n",
              "          await google.colab.kernel.invokeFunction('convertToInteractive',\n",
              "                                                    [key], {});\n",
              "        if (!dataTable) return;\n",
              "\n",
              "        const docLinkHtml = 'Like what you see? Visit the ' +\n",
              "          '<a target=\"_blank\" href=https://colab.research.google.com/notebooks/data_table.ipynb>data table notebook</a>'\n",
              "          + ' to learn more about interactive tables.';\n",
              "        element.innerHTML = '';\n",
              "        dataTable['output_type'] = 'display_data';\n",
              "        await google.colab.output.renderOutput(dataTable, element);\n",
              "        const docLink = document.createElement('div');\n",
              "        docLink.innerHTML = docLinkHtml;\n",
              "        element.appendChild(docLink);\n",
              "      }\n",
              "    </script>\n",
              "  </div>\n",
              "\n",
              "\n",
              "<div id=\"df-378c6cbe-3c24-41df-be51-2e847fc22a91\">\n",
              "  <button class=\"colab-df-quickchart\" onclick=\"quickchart('df-378c6cbe-3c24-41df-be51-2e847fc22a91')\"\n",
              "            title=\"Suggest charts\"\n",
              "            style=\"display:none;\">\n",
              "\n",
              "<svg xmlns=\"http://www.w3.org/2000/svg\" height=\"24px\"viewBox=\"0 0 24 24\"\n",
              "     width=\"24px\">\n",
              "    <g>\n",
              "        <path d=\"M19 3H5c-1.1 0-2 .9-2 2v14c0 1.1.9 2 2 2h14c1.1 0 2-.9 2-2V5c0-1.1-.9-2-2-2zM9 17H7v-7h2v7zm4 0h-2V7h2v10zm4 0h-2v-4h2v4z\"/>\n",
              "    </g>\n",
              "</svg>\n",
              "  </button>\n",
              "\n",
              "<style>\n",
              "  .colab-df-quickchart {\n",
              "      --bg-color: #E8F0FE;\n",
              "      --fill-color: #1967D2;\n",
              "      --hover-bg-color: #E2EBFA;\n",
              "      --hover-fill-color: #174EA6;\n",
              "      --disabled-fill-color: #AAA;\n",
              "      --disabled-bg-color: #DDD;\n",
              "  }\n",
              "\n",
              "  [theme=dark] .colab-df-quickchart {\n",
              "      --bg-color: #3B4455;\n",
              "      --fill-color: #D2E3FC;\n",
              "      --hover-bg-color: #434B5C;\n",
              "      --hover-fill-color: #FFFFFF;\n",
              "      --disabled-bg-color: #3B4455;\n",
              "      --disabled-fill-color: #666;\n",
              "  }\n",
              "\n",
              "  .colab-df-quickchart {\n",
              "    background-color: var(--bg-color);\n",
              "    border: none;\n",
              "    border-radius: 50%;\n",
              "    cursor: pointer;\n",
              "    display: none;\n",
              "    fill: var(--fill-color);\n",
              "    height: 32px;\n",
              "    padding: 0;\n",
              "    width: 32px;\n",
              "  }\n",
              "\n",
              "  .colab-df-quickchart:hover {\n",
              "    background-color: var(--hover-bg-color);\n",
              "    box-shadow: 0 1px 2px rgba(60, 64, 67, 0.3), 0 1px 3px 1px rgba(60, 64, 67, 0.15);\n",
              "    fill: var(--button-hover-fill-color);\n",
              "  }\n",
              "\n",
              "  .colab-df-quickchart-complete:disabled,\n",
              "  .colab-df-quickchart-complete:disabled:hover {\n",
              "    background-color: var(--disabled-bg-color);\n",
              "    fill: var(--disabled-fill-color);\n",
              "    box-shadow: none;\n",
              "  }\n",
              "\n",
              "  .colab-df-spinner {\n",
              "    border: 2px solid var(--fill-color);\n",
              "    border-color: transparent;\n",
              "    border-bottom-color: var(--fill-color);\n",
              "    animation:\n",
              "      spin 1s steps(1) infinite;\n",
              "  }\n",
              "\n",
              "  @keyframes spin {\n",
              "    0% {\n",
              "      border-color: transparent;\n",
              "      border-bottom-color: var(--fill-color);\n",
              "      border-left-color: var(--fill-color);\n",
              "    }\n",
              "    20% {\n",
              "      border-color: transparent;\n",
              "      border-left-color: var(--fill-color);\n",
              "      border-top-color: var(--fill-color);\n",
              "    }\n",
              "    30% {\n",
              "      border-color: transparent;\n",
              "      border-left-color: var(--fill-color);\n",
              "      border-top-color: var(--fill-color);\n",
              "      border-right-color: var(--fill-color);\n",
              "    }\n",
              "    40% {\n",
              "      border-color: transparent;\n",
              "      border-right-color: var(--fill-color);\n",
              "      border-top-color: var(--fill-color);\n",
              "    }\n",
              "    60% {\n",
              "      border-color: transparent;\n",
              "      border-right-color: var(--fill-color);\n",
              "    }\n",
              "    80% {\n",
              "      border-color: transparent;\n",
              "      border-right-color: var(--fill-color);\n",
              "      border-bottom-color: var(--fill-color);\n",
              "    }\n",
              "    90% {\n",
              "      border-color: transparent;\n",
              "      border-bottom-color: var(--fill-color);\n",
              "    }\n",
              "  }\n",
              "</style>\n",
              "\n",
              "  <script>\n",
              "    async function quickchart(key) {\n",
              "      const quickchartButtonEl =\n",
              "        document.querySelector('#' + key + ' button');\n",
              "      quickchartButtonEl.disabled = true;  // To prevent multiple clicks.\n",
              "      quickchartButtonEl.classList.add('colab-df-spinner');\n",
              "      try {\n",
              "        const charts = await google.colab.kernel.invokeFunction(\n",
              "            'suggestCharts', [key], {});\n",
              "      } catch (error) {\n",
              "        console.error('Error during call to suggestCharts:', error);\n",
              "      }\n",
              "      quickchartButtonEl.classList.remove('colab-df-spinner');\n",
              "      quickchartButtonEl.classList.add('colab-df-quickchart-complete');\n",
              "    }\n",
              "    (() => {\n",
              "      let quickchartButtonEl =\n",
              "        document.querySelector('#df-378c6cbe-3c24-41df-be51-2e847fc22a91 button');\n",
              "      quickchartButtonEl.style.display =\n",
              "        google.colab.kernel.accessAllowed ? 'block' : 'none';\n",
              "    })();\n",
              "  </script>\n",
              "</div>\n",
              "\n",
              "    </div>\n",
              "  </div>\n"
            ],
            "application/vnd.google.colaboratory.intrinsic+json": {
              "type": "dataframe",
              "variable_name": "data"
            }
          },
          "metadata": {},
          "execution_count": 193
        }
      ],
      "source": [
        "# Cargar el dataset\n",
        "data = pd.read_csv('data.csv')\n",
        "data['diagnosis'] = data['diagnosis'].map({'B': 0, 'M': 1})\n",
        "data = data.drop(columns=['id', 'Unnamed: 32'])  # Eliminamos la columna 'Unnamed: 32' Por valores nulos\n",
        "\n",
        "# Mostrar las primeras filas para explorar los datos\n",
        "data.head()"
      ]
    },
    {
      "cell_type": "code",
      "execution_count": null,
      "metadata": {
        "id": "zQGFN6CGLAi-"
      },
      "outputs": [],
      "source": [
        "# Normalizar los datos\n",
        "X = data.drop(columns=['diagnosis'])  # Eliminamos 'id' y la variable objetivo 'diagnosis'\n",
        "y = data['diagnosis']\n",
        "\n",
        "scaler = StandardScaler() # Escalado de los datos\n",
        "X_scaled = scaler.fit_transform(X)\n"
      ]
    },
    {
      "cell_type": "code",
      "execution_count": null,
      "metadata": {
        "colab": {
          "base_uri": "https://localhost:8080/",
          "height": 196
        },
        "id": "H_4vKTpELCIk",
        "outputId": "9dd3ca3d-7b0f-46fc-e8ac-9501091c4068"
      },
      "outputs": [
        {
          "output_type": "stream",
          "name": "stdout",
          "text": [
            "Distribución de clases:\n"
          ]
        },
        {
          "output_type": "execute_result",
          "data": {
            "text/plain": [
              "diagnosis\n",
              "0    357\n",
              "1    212\n",
              "Name: count, dtype: int64"
            ],
            "text/html": [
              "<div>\n",
              "<style scoped>\n",
              "    .dataframe tbody tr th:only-of-type {\n",
              "        vertical-align: middle;\n",
              "    }\n",
              "\n",
              "    .dataframe tbody tr th {\n",
              "        vertical-align: top;\n",
              "    }\n",
              "\n",
              "    .dataframe thead th {\n",
              "        text-align: right;\n",
              "    }\n",
              "</style>\n",
              "<table border=\"1\" class=\"dataframe\">\n",
              "  <thead>\n",
              "    <tr style=\"text-align: right;\">\n",
              "      <th></th>\n",
              "      <th>count</th>\n",
              "    </tr>\n",
              "    <tr>\n",
              "      <th>diagnosis</th>\n",
              "      <th></th>\n",
              "    </tr>\n",
              "  </thead>\n",
              "  <tbody>\n",
              "    <tr>\n",
              "      <th>0</th>\n",
              "      <td>357</td>\n",
              "    </tr>\n",
              "    <tr>\n",
              "      <th>1</th>\n",
              "      <td>212</td>\n",
              "    </tr>\n",
              "  </tbody>\n",
              "</table>\n",
              "</div><br><label><b>dtype:</b> int64</label>"
            ]
          },
          "metadata": {},
          "execution_count": 195
        }
      ],
      "source": [
        "# Visualizar la distribución de las clases\n",
        "print(\"Distribución de clases:\")\n",
        "y.value_counts()"
      ]
    },
    {
      "cell_type": "code",
      "execution_count": null,
      "metadata": {
        "id": "t2Io9p1RLDxD"
      },
      "outputs": [],
      "source": [
        "# Dividir en conjunto de entrenamiento y prueba\n",
        "X_train, X_test, y_train, y_test = train_test_split(X_scaled, y, test_size=0.3, random_state=42)"
      ]
    },
    {
      "cell_type": "markdown",
      "metadata": {
        "id": "0dd348c5"
      },
      "source": [
        "# ✅ **Requerimiento 2:**\n",
        "**Aplicar SVM con diferentes kernels y ajustar hiperparámetros.**\n"
      ]
    },
    {
      "cell_type": "code",
      "source": [
        "# Definir hiperparámetros a evaluar\n",
        "param_grid = {\n",
        "    'C': [0.1, 1, 10],\n",
        "    'gamma': [0.01, 0.1, 1],  # Solo afecta a RBF y Sigmoid\n",
        "    'kernel': ['linear', 'rbf', 'poly', 'sigmoid'],\n",
        "    'degree': [2, 3, 4],  # Solo para polinomial\n",
        "    'coef0': [0, 1, 2]  # Solo para polinomial y sigmoide\n",
        "}\n",
        "\n",
        "# Crear y ejecutar GridSearchCV\n",
        "grid_search = GridSearchCV(SVC(), param_grid, cv=5, n_jobs=-1)\n",
        "grid_search.fit(X_train, y_train)\n",
        "\n",
        "# Convertir resultados en DataFrame para analizar\n",
        "results_df = pd.DataFrame(grid_search.cv_results_)"
      ],
      "metadata": {
        "id": "QjxnXUb5TdFK"
      },
      "execution_count": 197,
      "outputs": []
    },
    {
      "cell_type": "code",
      "source": [
        "# Ver los mejores hiperparámetros para cada kernel\n",
        "best_params_per_kernel = {}\n",
        "for kernel in param_grid['kernel']:\n",
        "    best_for_kernel = results_df[results_df['param_kernel'] == kernel].sort_values('mean_test_score', ascending=False).iloc[0]\n",
        "    best_params_per_kernel[kernel] = {\n",
        "        'C': best_for_kernel['param_C'],\n",
        "        'gamma': best_for_kernel['param_gamma'],\n",
        "        'degree': best_for_kernel['param_degree'],\n",
        "        'coef0': best_for_kernel['param_coef0'],\n",
        "        'accuracy': best_for_kernel['mean_test_score']\n",
        "    }"
      ],
      "metadata": {
        "id": "bFshKb25teMu"
      },
      "execution_count": 198,
      "outputs": []
    },
    {
      "cell_type": "code",
      "source": [
        "# Mostrar los mejores hiperparámetros por kernel y su recall\n",
        "for kernel, params in best_params_per_kernel.items():\n",
        "    # Entrenar modelo con los mejores hiperparámetros de cada kernel\n",
        "    model = SVC(kernel=kernel, C=params['C'], gamma=params['gamma'],\n",
        "                degree=params['degree'], coef0=params['coef0'])\n",
        "    model.fit(X_train, y_train)  # Entrenar modelo\n",
        "    y_pred = model.predict(X_test)  # Hacer predicciones\n",
        "\n",
        "    # Calcular Recall\n",
        "    recall = recall_score(y_test, y_pred)\n",
        "\n",
        "    # Imprimir resultados\n",
        "    print(f\"\\n🔹 Mejor configuración para kernel '{kernel}':\")\n",
        "    print(f\"   - C: {params['C']}\")\n",
        "    print(f\"   - Gamma: {params['gamma']}\")\n",
        "    print(f\"   - Degree: {params['degree']}\")\n",
        "    print(f\"   - Coef0: {params['coef0']}\")\n",
        "    print(f\"   - Precisión (Accuracy): {params['accuracy']:.4f}\")\n",
        "    print(f\"   - Recall: {recall:.4f}\")  # Se agrega Recall"
      ],
      "metadata": {
        "colab": {
          "base_uri": "https://localhost:8080/"
        },
        "id": "bOqJdwIatWx7",
        "outputId": "b2c3a6ae-d80b-4df0-c712-27e3fb41d145"
      },
      "execution_count": 199,
      "outputs": [
        {
          "output_type": "stream",
          "name": "stdout",
          "text": [
            "\n",
            "🔹 Mejor configuración para kernel 'linear':\n",
            "   - C: 1.0\n",
            "   - Gamma: 0.01\n",
            "   - Degree: 2\n",
            "   - Coef0: 2\n",
            "   - Precisión (Accuracy): 0.9748\n",
            "   - Recall: 0.9683\n",
            "\n",
            "🔹 Mejor configuración para kernel 'rbf':\n",
            "   - C: 10.0\n",
            "   - Gamma: 0.01\n",
            "   - Degree: 3\n",
            "   - Coef0: 1\n",
            "   - Precisión (Accuracy): 0.9673\n",
            "   - Recall: 0.9683\n",
            "\n",
            "🔹 Mejor configuración para kernel 'poly':\n",
            "   - C: 0.1\n",
            "   - Gamma: 0.1\n",
            "   - Degree: 3\n",
            "   - Coef0: 2\n",
            "   - Precisión (Accuracy): 0.9773\n",
            "   - Recall: 0.9683\n",
            "\n",
            "🔹 Mejor configuración para kernel 'sigmoid':\n",
            "   - C: 10.0\n",
            "   - Gamma: 0.01\n",
            "   - Degree: 3\n",
            "   - Coef0: 0\n",
            "   - Precisión (Accuracy): 0.9698\n",
            "   - Recall: 0.9841\n"
          ]
        }
      ]
    },
    {
      "cell_type": "markdown",
      "metadata": {
        "id": "a4ae957a"
      },
      "source": [
        "# ✅ **Requerimiento 3:**\n",
        "**Usar métodos de reducción de dimensionalidad (PCA).**\n"
      ]
    },
    {
      "cell_type": "code",
      "source": [
        "# Aplicar PCA sin reducir el número de componentes para analizar la varianza\n",
        "pca_full = PCA(n_components=None)\n",
        "X_pca_full = pca_full.fit_transform(X_scaled)\n",
        "\n",
        "# Obtener la varianza explicada acumulada\n",
        "explained_variance_ratio = np.cumsum(pca_full.explained_variance_ratio_)\n",
        "\n",
        "# Graficar la varianza explicada acumulada\n",
        "plt.figure(figsize=(8, 5))\n",
        "plt.plot(range(1, len(explained_variance_ratio) + 1), explained_variance_ratio, marker='o', linestyle='--', color='b')\n",
        "plt.xlabel('Número de Componentes Principales')\n",
        "plt.ylabel('Varianza Explicada Acumulada')\n",
        "plt.title('Varianza Explicada vs. Número de Componentes')\n",
        "plt.grid()\n",
        "plt.show()\n"
      ],
      "metadata": {
        "colab": {
          "base_uri": "https://localhost:8080/",
          "height": 488
        },
        "id": "og0S26sybI2Z",
        "outputId": "32d9b5f9-d300-462e-e18c-7d2710818901"
      },
      "execution_count": 200,
      "outputs": [
        {
          "output_type": "display_data",
          "data": {
            "text/plain": [
              "<Figure size 800x500 with 1 Axes>"
            ],
            "image/png": "[encoded data removed]"
          },
          "metadata": {}
        }
      ]
    },
    {
      "cell_type": "code",
      "source": [
        "# Aplicar PCA con 15 componentes\n",
        "pca = PCA(n_components=15)\n",
        "X_train_pca = pca.fit_transform(X_train)\n",
        "X_test_pca = pca.transform(X_test)  # Importante: Solo transformamos, no volvemos a hacer fit()\n",
        "\n",
        "# Crear y ejecutar GridSearchCV con los datos reducidos por PCA\n",
        "grid_search_pca = GridSearchCV(SVC(), param_grid, cv=5, n_jobs=-1)\n",
        "grid_search_pca.fit(X_train_pca, y_train)\n",
        "\n",
        "# Convertir resultados en DataFrame para analizar\n",
        "results_df_pca = pd.DataFrame(grid_search_pca.cv_results_)"
      ],
      "metadata": {
        "id": "sa5d0n-3eMTx"
      },
      "execution_count": 201,
      "outputs": []
    },
    {
      "cell_type": "code",
      "execution_count": 202,
      "metadata": {
        "colab": {
          "base_uri": "https://localhost:8080/"
        },
        "id": "d74Hq9MHQP3S",
        "outputId": "e1990e5e-5b80-43dd-d781-f980b60dc737"
      },
      "outputs": [
        {
          "output_type": "stream",
          "name": "stdout",
          "text": [
            "\n",
            "🔹 Mejor configuración para kernel 'linear' con PCA:\n",
            "   - C: 0.1\n",
            "   - Gamma: 0.01\n",
            "   - Degree: 2\n",
            "   - Coef0: 0\n",
            "   - Precisión (Accuracy) con PCA: 0.9774\n",
            "   - Recall con PCA: 0.9841\n",
            "\n",
            "🔹 Mejor configuración para kernel 'rbf' con PCA:\n",
            "   - C: 10.0\n",
            "   - Gamma: 0.01\n",
            "   - Degree: 3\n",
            "   - Coef0: 1\n",
            "   - Precisión (Accuracy) con PCA: 0.9723\n",
            "   - Recall con PCA: 0.9683\n",
            "\n",
            "🔹 Mejor configuración para kernel 'poly' con PCA:\n",
            "   - C: 0.1\n",
            "   - Gamma: 0.1\n",
            "   - Degree: 3\n",
            "   - Coef0: 2\n",
            "   - Precisión (Accuracy) con PCA: 0.9773\n",
            "   - Recall con PCA: 0.9683\n",
            "\n",
            "🔹 Mejor configuración para kernel 'sigmoid' con PCA:\n",
            "   - C: 10.0\n",
            "   - Gamma: 0.01\n",
            "   - Degree: 3\n",
            "   - Coef0: 0\n",
            "   - Precisión (Accuracy) con PCA: 0.9724\n",
            "   - Recall con PCA: 0.9841\n"
          ]
        }
      ],
      "source": [
        "# Ver los mejores hiperparámetros para cada kernel después de PCA\n",
        "best_params_per_kernel_pca = {}\n",
        "for kernel in param_grid['kernel']:\n",
        "    best_for_kernel = results_df_pca[results_df_pca['param_kernel'] == kernel].sort_values('mean_test_score', ascending=False).iloc[0]\n",
        "    best_params_per_kernel_pca[kernel] = {\n",
        "        'C': best_for_kernel['param_C'],\n",
        "        'gamma': best_for_kernel['param_gamma'],\n",
        "        'degree': best_for_kernel['param_degree'],\n",
        "        'coef0': best_for_kernel['param_coef0'],\n",
        "        'accuracy': best_for_kernel['mean_test_score']\n",
        "    }\n",
        "\n",
        "# Evaluar cada kernel con sus mejores hiperparámetros en PCA\n",
        "for kernel, params in best_params_per_kernel_pca.items():\n",
        "    # Entrenar modelo con los mejores hiperparámetros en datos con PCA\n",
        "    model = SVC(kernel=kernel, C=params['C'], gamma=params['gamma'],\n",
        "                degree=params['degree'], coef0=params['coef0'])\n",
        "    model.fit(X_train_pca, y_train)\n",
        "    y_pred_pca = model.predict(X_test_pca)\n",
        "\n",
        "    # Calcular Recall con PCA\n",
        "    recall_pca = recall_score(y_test, y_pred_pca)\n",
        "\n",
        "    # Imprimir resultados\n",
        "    print(f\"\\n🔹 Mejor configuración para kernel '{kernel}' con PCA:\")\n",
        "    print(f\"   - C: {params['C']}\")\n",
        "    print(f\"   - Gamma: {params['gamma']}\")\n",
        "    print(f\"   - Degree: {params['degree']}\")\n",
        "    print(f\"   - Coef0: {params['coef0']}\")\n",
        "    print(f\"   - Precisión (Accuracy) con PCA: {params['accuracy']:.4f}\")\n",
        "    print(f\"   - Recall con PCA: {recall_pca:.4f}\")"
      ]
    },
    {
      "cell_type": "markdown",
      "metadata": {
        "id": "cdeba5c7"
      },
      "source": [
        "# ✅ **Requerimiento 4:**\n",
        "**Evaluar con matriz de confusión, recall y precisión.**\n"
      ]
    },
    {
      "cell_type": "markdown",
      "source": [
        "Funcion para crear las matriz de confusion, basado en el mejor kernel y la integracion de PCA"
      ],
      "metadata": {
        "id": "UqP8uGVIDU4t"
      }
    },
    {
      "cell_type": "code",
      "source": [
        "def mostrar_matriz_confusion(kernel_name, usar_pca=False):\n",
        "\n",
        "    # Seleccionar el conjunto de datos según si se usa PCA o no\n",
        "    X_train_selected = X_train_pca if usar_pca else X_train\n",
        "    X_test_selected = X_test_pca if usar_pca else X_test\n",
        "\n",
        "    # Obtener los mejores hiperparámetros dependiendo del uso de PCA\n",
        "    best_params = best_params_per_kernel_pca[kernel_name] if usar_pca else best_params_per_kernel[kernel_name]\n",
        "\n",
        "    # Crear y entrenar el modelo SVM con los mejores hiperparámetros\n",
        "    model = SVC(kernel=kernel_name, C=best_params['C'], degree=best_params['degree'], coef0=best_params['coef0'])\n",
        "    model.fit(X_train_selected, y_train)\n",
        "\n",
        "    # Realizar predicciones\n",
        "    y_pred = model.predict(X_test_selected)\n",
        "\n",
        "    # Calcular la matriz de confusión\n",
        "    cm = confusion_matrix(y_test, y_pred)\n",
        "\n",
        "    # Mostrar la matriz de confusión gráficamente\n",
        "    tipo_modelo = \"con PCA\" if usar_pca else \"sin PCA\"\n",
        "    disp = ConfusionMatrixDisplay(confusion_matrix=cm, display_labels=[\"Benigno (0)\", \"Maligno (1)\"])\n",
        "    disp.plot(cmap=\"Blues\")\n",
        "    plt.title(f\"Matriz de Confusión - Kernel {kernel_name.capitalize()} ({tipo_modelo})\")\n",
        "    plt.show()"
      ],
      "metadata": {
        "id": "kTBRjdi74QtS"
      },
      "execution_count": 203,
      "outputs": []
    },
    {
      "cell_type": "markdown",
      "source": [
        "Llamado de la funcion para la matriz de confusion con el mejor modelo sin PCA"
      ],
      "metadata": {
        "id": "ttw3o7R6Dq77"
      }
    },
    {
      "cell_type": "code",
      "source": [
        "print(\"\\n🔹 Modelo SIN PCA:\")\n",
        "mostrar_matriz_confusion(\"poly\", usar_pca=False)  # Sin PCA"
      ],
      "metadata": {
        "colab": {
          "base_uri": "https://localhost:8080/",
          "height": 507
        },
        "id": "joVAKb41DpTR",
        "outputId": "32f86af9-869b-4fce-e032-2c83a5735a3e"
      },
      "execution_count": 204,
      "outputs": [
        {
          "output_type": "stream",
          "name": "stdout",
          "text": [
            "\n",
            "🔹 Modelo SIN PCA:\n"
          ]
        },
        {
          "output_type": "display_data",
          "data": {
            "text/plain": [
              "<Figure size 640x480 with 2 Axes>"
            ],
            "image/png": "[encoded data removed]"
          },
          "metadata": {}
        }
      ]
    },
    {
      "cell_type": "markdown",
      "source": [
        "Llamado de la funcion para la matriz de confusion con el mejor modelo con PCA"
      ],
      "metadata": {
        "id": "elzHo7QFD4KY"
      }
    },
    {
      "cell_type": "code",
      "source": [
        "print(\"\\n🔹 Modelo CON PCA:\")\n",
        "mostrar_matriz_confusion(\"linear\", usar_pca=True)   # Con PCA"
      ],
      "metadata": {
        "colab": {
          "base_uri": "https://localhost:8080/",
          "height": 507
        },
        "id": "GZFULjhkD4zR",
        "outputId": "6ace1e43-18d7-4b1f-ad18-e05562741369"
      },
      "execution_count": 205,
      "outputs": [
        {
          "output_type": "stream",
          "name": "stdout",
          "text": [
            "\n",
            "🔹 Modelo CON PCA:\n"
          ]
        },
        {
          "output_type": "display_data",
          "data": {
            "text/plain": [
              "<Figure size 640x480 with 2 Axes>"
            ],
            "image/png": "[encoded data removed]"
          },
          "metadata": {}
        }
      ]
    }
  ],
  "metadata": {
    "colab": {
      "provenance": []
    },
    "kernelspec": {
      "display_name": "Python 3",
      "name": "python3"
    },
    "language_info": {
      "name": "python"
    }
  },
  "nbformat": 4,
  "nbformat_minor": 0
}